{
 "cells": [
  {
   "cell_type": "markdown",
   "metadata": {},
   "source": [
    "# Thermal Model Analysis\n",
    "\n",
    "This notebook runs the thermal model analysis using the `Code.py` script."
   ]
  },
  {
   "cell_type": "code",
   "execution_count": null,
   "metadata": {},
   "outputs": [],
   "source": [
    "# Run the script\n",
    "%run Code.py\n",
    "\n",
    "# Display results\n",
    "print(\"Indoor air temperatures:\", θ[indoor_air], \"°C\")\n",
    "print(\"Controller power:\", q[controller], \"W\")\n",
    "print(\"State-space representation matrices:\")\n",
    "print(\"As:\", As)\n",
    "print(\"Bs:\", Bs)\n",
    "print(\"Cs:\", Cs)\n",
    "print(\"Ds:\", Ds)"
   ]
  }
 ],
 "metadata": {},
 "nbformat": 4,
 "nbformat_minor": 5
}
