# Thermal Model Analysis

This notebook runs the thermal model analysis using the `Code_1.py` script.

```python
# Run the script
%run Code.py
