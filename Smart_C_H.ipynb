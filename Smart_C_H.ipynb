{
 "cells": [
  {
   "cell_type": "markdown",
   "metadata": {},
   "source": [
    "# Thermal Model Analysis\n",
    "\n",
    "This notebook runs the thermal model analysis using the `Code.py` script."
   ]
  },
  {
   "cell_type": "code",
   "execution_count": null,
   "metadata": {},
   "outputs": [],
   "source": [
    "# Import necessary libraries\n",
    "import numpy as np\n",
    "import matplotlib.pyplot as plt\n",
    "\n",
    "# Run the Code.py script\n",
    "%run Code.py"
   ]
  },
  {
   "cell_type": "markdown",
   "metadata": {},
   "source": [
    "## Connectivity Matrix (A)"
   ]
  },
  {
   "cell_type": "code",
   "execution_count": null,
   "metadata": {},
   "outputs": [],
   "source": [
    "print(\"A matrix (connectivity):\")\n",
    "print(A)"
   ]
  },
  {
   "cell_type": "markdown",
   "metadata": {},
   "source": [
    "## Conductance Matrix (G)"
   ]
  },
  {
   "cell_type": "code",
   "execution_count": null,
   "metadata": {},
   "outputs": [],
   "source": [
    "print(\"\\nG matrix (conductance):\")\n",
    "print(G)"
   ]
  },
  {
   "cell_type": "markdown",
   "metadata": {},
   "source": [
    "## Capacitance Matrix (C)"
   ]
  },
  {
   "cell_type": "code",
   "execution_count": null,
   "metadata": {},
   "outputs": [],
   "source": [
    "print(\"\\nC matrix (capacitances):\")\n",
    "print(C)"
   ]
  },
  {
   "cell_type": "markdown",
   "metadata": {},
   "source": [
    "## External Temperatures and Sources Matrix (b)"
   ]
  },
  {
   "cell_type": "code",
   "execution_count": null,
   "metadata": {},
   "outputs": [],
   "source": [
    "print(\"\\nb matrix (external temperatures and sources):\")\n",
    "print(b)"
   ]
  },
  {
   "cell_type": "markdown",
   "metadata": {},
   "source": [
    "## Absorbed Solar Radiation and Internal Sources Matrix (f)"
   ]
  },
  {
   "cell_type": "code",
   "execution_count": null,
   "metadata": {},
   "outputs": [],
   "source": [
    "print(\"\\nf matrix (absorbed solar radiation and internal sources):\")\n",
    "print(f)"
   ]
  },
  {
   "cell_type": "markdown",
   "metadata": {},
   "source": [
    "## Indoor Air Temperatures"
   ]
  },
  {
   "cell_type": "code",
   "execution_count": null,
   "metadata": {},
   "outputs": [],
   "source": [
    "print(\"\\nIndoor air temperatures:\")\n",
    "indoor_air = [3, 7]  # Adjust indices if needed\n",
    "print(f\"Room A temperature: {θ[3]} °C\")\n",
    "print(f\"Room B temperature: {θ[7]} °C\")"
   ]
  },
  {
   "cell_type": "markdown",
   "metadata": {},
   "source": [
    "## Controller Thermal Load (Room B)"
   ]
  },
  {
   "cell_type": "code",
   "execution_count": null,
   "metadata": {},
   "outputs": [],
   "source": [
    "controller = 7  # Assuming the controller is defined at index 7, update as needed\n",
    "print(f\"\\nController thermal load (Room B): {q[controller]} W\")"
   ]
  },
  {
   "cell_type": "markdown",
   "metadata": {},
   "source": [
    "## State-Space Representation Matrices"
   ]
  },
  {
   "cell_type": "code",
   "execution_count": null,
   "metadata": {},
   "outputs": [],
   "source": [
    "print(\"\\nState-space representation matrices:\")\n",
    "print(\"As:\\n\", As)\n",
    "print(\"Bs:\\n\", Bs)\n",
    "print(\"Cs:\\n\", Cs)\n",
    "print(\"Ds:\\n\", Ds)"
   ]
  },
  {
   "cell_type": "markdown",
   "metadata": {},
   "source": [
    "## Step Response of Indoor Air Temperature"
   ]
  },
  {
   "cell_type": "code",
   "execution_count": null,
   "metadata": {},
   "outputs": [],
   "source": [
    "# Plot the step response\n",
    "plt.figure(figsize=(10, 6))\n",
    "plt.plot(time_steps, theta[:, indoor_air[0]], label='Room A Air Temperature')\n",
    "plt.plot(time_steps, theta[:, indoor_air[1]], label='Room B Air Temperature')\n",
    "plt.axhline(y=Tsp, color='r', linestyle='--', label='Setpoint Temperature')\n",
    "plt.xlabel('Time (hours)')\n",
    "plt.ylabel('Temperature (°C)')\n",
    "plt.title('Step Response of Indoor Air Temperature to Outdoor Temperature Change')\n",
    "plt.legend()\n",
    "plt.grid(True)\n",
    "plt.show()"
   ]
  }
 ],
 "metadata": {},
 "nbformat": 4,
 "nbformat_minor": 5
}
