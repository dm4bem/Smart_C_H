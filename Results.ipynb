{
 "cells": [
  {
   "cell_type": "markdown",
   "metadata": {},
   "source": [
    "# Thermal Model Analysis\n",
    "\n",
    "This notebook runs the thermal model analysis using the `Code.py` script."
   ]
  },
  {
   "cell_type": "code",
   "execution_count": null,
   "metadata": {},
   "outputs": [],
   "source": [
    "# Import necessary libraries\n",
    "import numpy as np\n",
    "\n",
    "# Run the Code.py script and handle errors\n",
    "try:\n",
    "    %run Code.py\n",
    "except FileNotFoundError:\n",
    "    print('Error: Code.py script not found.')\n",
    "except Exception as e:\n",
    "    print(f'Error while running Code.py: {e}')\n",
    "\n",
    "# Ensure the necessary variables are defined\n",
    "try:\n",
    "    A\n",
    "    G\n",
    "    C\n",
    "    b\n",
    "    f\n",
    "    θ\n",
    "    q\n",
    "    As\n",
    "    Bs\n",
    "    Cs\n",
    "    Ds\n",
    "except NameError as e:\n",
    "    print(f'Error: {e}')"
   ]
  },
  {
   "cell_type": "markdown",
   "metadata": {},
   "source": [
    "## Connectivity Matrix (A)"
   ]
  },
  {
   "cell_type": "code",
   "execution_count": null,
   "metadata": {},
   "outputs": [],
   "source": [
    "print(\"A matrix (connectivity):\")\n",
    "try:\n",
    "    print(A)\n",
    "except NameError:\n",
    "    print('A matrix is not defined.')"
   ]
  },
  {
   "cell_type": "markdown",
   "metadata": {},
   "source": [
    "## Conductance Matrix (G)"
   ]
  },
  {
   "cell_type": "code",
   "execution_count": null,
   "metadata": {},
   "outputs": [],
   "source": [
    "print(\"\\nG matrix (conductance):\")\n",
    "try:\n",
    "    print(G)\n",
    "except NameError:\n",
    "    print('G matrix is not defined.')"
   ]
  },
  {
   "cell_type": "markdown",
   "metadata": {},
   "source": [
    "## Capacitance Matrix (C)"
   ]
  },
  {
   "cell_type": "code",
   "execution_count": null,
   "metadata": {},
   "outputs": [],
   "source": [
    "print(\"\\nC matrix (capacitances):\")\n",
    "try:\n",
    "    print(C)\n",
    "except NameError:\n",
    "    print('C matrix is not defined.')"
   ]
  },
  {
   "cell_type": "markdown",
   "metadata": {},
   "source": [
    "## External Temperatures and Sources Matrix (b)"
   ]
  },
  {
   "cell_type": "code",
   "execution_count": null,
   "metadata": {},
   "outputs": [],
   "source": [
    "print(\"\\nb matrix (external temperatures and sources):\")\n",
    "try:\n",
    "    print(b)\n",
    "except NameError:\n",
    "    print('b matrix is not defined.')"
   ]
  },
  {
   "cell_type": "markdown",
   "metadata": {},
   "source": [
    "## Absorbed Solar Radiation and Internal Sources Matrix (f)"
   ]
  },
  {
   "cell_type": "code",
   "execution_count": null,
   "metadata": {},
   "outputs": [],
   "source": [
    "print(\"\\nf matrix (absorbed solar radiation and internal sources):\")\n",
    "try:\n",
    "    print(f)\n",
    "except NameError:\n",
    "    print('f matrix is not defined.')"
   ]
  },
  {
   "cell_type": "markdown",
   "metadata": {},
   "source": [
    "## Indoor Air Temperatures"
   ]
  },
  {
   "cell_type": "code",
   "execution_count": null,
   "metadata": {},
   "outputs": [],
   "source": [
    "print(\"\\nIndoor air temperatures:\")\n",
    "try:\n",
    "    indoor_air = [3, 7]  # Adjust indices if needed\n",
    "    print(f\"Room A temperature: {θ[3]} °C\")\n",
    "    print(f\"Room B temperature: {θ[7]} °C\")\n",
    "except NameError:\n",
    "    print('θ is not defined.')\n",
    "except IndexError as e:\n",
    "    print(f'Error: {e}')"
   ]
  },
  {
   "cell_type": "markdown",
   "metadata": {},
   "source": [
    "## Controller Thermal Load (Room B)"
   ]
  },
  {
   "cell_type": "code",
   "execution_count": null,
   "metadata": {},
   "outputs": [],
   "source": [
    "try:\n",
    "    controller = 7  # Assuming the controller is defined at index 7, update as needed\n",
    "    print(f\"\\nController thermal load (Room B): {q[controller]} W\")\n",
    "except NameError:\n",
    "    print('q or controller is not defined.')\n",
    "except IndexError as e:\n",
    "    print(f'Error: {e}')"
   ]
  },
  {
   "cell_type": "markdown",
   "metadata": {},
   "source": [
    "## State-Space Representation Matrices"
   ]
  },
  {
   "cell_type": "code",
   "execution_count": null,
   "metadata": {},
   "outputs": [],
   "source": [
    "print(\"\\nState-space representation matrices:\")\n",
    "try:\n",
    "    print(\"As:\\n\", As)\n",
    "    print(\"Bs:\\n\", Bs)\n",
    "    print(\"Cs:\\n\", Cs)\n",
    "    print(\"Ds:\\n\", Ds)\n",
    "except NameError as e:\n",
    "    print(f'Error: {e}')"
   ]
  }
 ],
 "metadata": {},
 "nbformat": 4,
 "nbformat_minor": 5
}
